{
 "cells": [
  {
   "cell_type": "markdown",
   "id": "c913f74d",
   "metadata": {},
   "source": [
    "# Loan Approval Prediction - Preprocessing Data"
   ]
  },
  {
   "cell_type": "markdown",
   "id": "128f83e7",
   "metadata": {},
   "source": [
    "### Step 1: Import Raw Data and Required Libraries."
   ]
  },
  {
   "cell_type": "code",
   "execution_count": 1,
   "id": "10c87e98",
   "metadata": {},
   "outputs": [],
   "source": [
    "import pandas as pd\n",
    "import numpy as np"
   ]
  },
  {
   "cell_type": "code",
   "execution_count": 2,
   "id": "e81c3e90",
   "metadata": {},
   "outputs": [
    {
     "data": {
      "text/html": [
       "<div>\n",
       "<style scoped>\n",
       "    .dataframe tbody tr th:only-of-type {\n",
       "        vertical-align: middle;\n",
       "    }\n",
       "\n",
       "    .dataframe tbody tr th {\n",
       "        vertical-align: top;\n",
       "    }\n",
       "\n",
       "    .dataframe thead th {\n",
       "        text-align: right;\n",
       "    }\n",
       "</style>\n",
       "<table border=\"1\" class=\"dataframe\">\n",
       "  <thead>\n",
       "    <tr style=\"text-align: right;\">\n",
       "      <th></th>\n",
       "      <th>Term</th>\n",
       "      <th>LoanStatus</th>\n",
       "      <th>EmploymentStatus</th>\n",
       "      <th>EmploymentStatusDuration</th>\n",
       "      <th>IsBorrowerHomeowner</th>\n",
       "      <th>CreditScoreRangeLower</th>\n",
       "      <th>CreditScoreRangeUpper</th>\n",
       "      <th>OpenCreditLines</th>\n",
       "      <th>TotalInquiries</th>\n",
       "      <th>CurrentDelinquencies</th>\n",
       "      <th>AvailableBankcardCredit</th>\n",
       "      <th>DebtToIncomeRatio</th>\n",
       "      <th>IncomeVerifiable</th>\n",
       "      <th>StatedMonthlyIncome</th>\n",
       "      <th>LoanNumber</th>\n",
       "      <th>LoanOriginalAmount</th>\n",
       "      <th>MonthlyLoanPayment</th>\n",
       "      <th>BorrowerRate</th>\n",
       "    </tr>\n",
       "  </thead>\n",
       "  <tbody>\n",
       "    <tr>\n",
       "      <th>0</th>\n",
       "      <td>36</td>\n",
       "      <td>Completed</td>\n",
       "      <td>Self-employed</td>\n",
       "      <td>2.0</td>\n",
       "      <td>True</td>\n",
       "      <td>640.0</td>\n",
       "      <td>659.0</td>\n",
       "      <td>4.0</td>\n",
       "      <td>3.0</td>\n",
       "      <td>2.0</td>\n",
       "      <td>1500.0</td>\n",
       "      <td>0.17</td>\n",
       "      <td>True</td>\n",
       "      <td>3083.333333</td>\n",
       "      <td>19141</td>\n",
       "      <td>9425</td>\n",
       "      <td>330.43</td>\n",
       "      <td>0.1580</td>\n",
       "    </tr>\n",
       "    <tr>\n",
       "      <th>1</th>\n",
       "      <td>36</td>\n",
       "      <td>Current</td>\n",
       "      <td>Employed</td>\n",
       "      <td>44.0</td>\n",
       "      <td>False</td>\n",
       "      <td>680.0</td>\n",
       "      <td>699.0</td>\n",
       "      <td>14.0</td>\n",
       "      <td>5.0</td>\n",
       "      <td>0.0</td>\n",
       "      <td>10266.0</td>\n",
       "      <td>0.18</td>\n",
       "      <td>True</td>\n",
       "      <td>6125.000000</td>\n",
       "      <td>134815</td>\n",
       "      <td>10000</td>\n",
       "      <td>318.93</td>\n",
       "      <td>0.0920</td>\n",
       "    </tr>\n",
       "    <tr>\n",
       "      <th>2</th>\n",
       "      <td>36</td>\n",
       "      <td>Completed</td>\n",
       "      <td>Not available</td>\n",
       "      <td>NaN</td>\n",
       "      <td>False</td>\n",
       "      <td>480.0</td>\n",
       "      <td>499.0</td>\n",
       "      <td>NaN</td>\n",
       "      <td>1.0</td>\n",
       "      <td>1.0</td>\n",
       "      <td>NaN</td>\n",
       "      <td>0.06</td>\n",
       "      <td>True</td>\n",
       "      <td>2083.333333</td>\n",
       "      <td>6466</td>\n",
       "      <td>3001</td>\n",
       "      <td>123.32</td>\n",
       "      <td>0.2750</td>\n",
       "    </tr>\n",
       "    <tr>\n",
       "      <th>3</th>\n",
       "      <td>36</td>\n",
       "      <td>Current</td>\n",
       "      <td>Employed</td>\n",
       "      <td>113.0</td>\n",
       "      <td>True</td>\n",
       "      <td>800.0</td>\n",
       "      <td>819.0</td>\n",
       "      <td>5.0</td>\n",
       "      <td>1.0</td>\n",
       "      <td>4.0</td>\n",
       "      <td>30754.0</td>\n",
       "      <td>0.15</td>\n",
       "      <td>True</td>\n",
       "      <td>2875.000000</td>\n",
       "      <td>77296</td>\n",
       "      <td>10000</td>\n",
       "      <td>321.45</td>\n",
       "      <td>0.0974</td>\n",
       "    </tr>\n",
       "    <tr>\n",
       "      <th>4</th>\n",
       "      <td>36</td>\n",
       "      <td>Current</td>\n",
       "      <td>Employed</td>\n",
       "      <td>44.0</td>\n",
       "      <td>True</td>\n",
       "      <td>680.0</td>\n",
       "      <td>699.0</td>\n",
       "      <td>19.0</td>\n",
       "      <td>9.0</td>\n",
       "      <td>0.0</td>\n",
       "      <td>695.0</td>\n",
       "      <td>0.26</td>\n",
       "      <td>True</td>\n",
       "      <td>9583.333333</td>\n",
       "      <td>102670</td>\n",
       "      <td>15000</td>\n",
       "      <td>563.97</td>\n",
       "      <td>0.2085</td>\n",
       "    </tr>\n",
       "  </tbody>\n",
       "</table>\n",
       "</div>"
      ],
      "text/plain": [
       "   Term LoanStatus EmploymentStatus  EmploymentStatusDuration  \\\n",
       "0    36  Completed    Self-employed                       2.0   \n",
       "1    36    Current         Employed                      44.0   \n",
       "2    36  Completed    Not available                       NaN   \n",
       "3    36    Current         Employed                     113.0   \n",
       "4    36    Current         Employed                      44.0   \n",
       "\n",
       "   IsBorrowerHomeowner  CreditScoreRangeLower  CreditScoreRangeUpper  \\\n",
       "0                 True                  640.0                  659.0   \n",
       "1                False                  680.0                  699.0   \n",
       "2                False                  480.0                  499.0   \n",
       "3                 True                  800.0                  819.0   \n",
       "4                 True                  680.0                  699.0   \n",
       "\n",
       "   OpenCreditLines  TotalInquiries  CurrentDelinquencies  \\\n",
       "0              4.0             3.0                   2.0   \n",
       "1             14.0             5.0                   0.0   \n",
       "2              NaN             1.0                   1.0   \n",
       "3              5.0             1.0                   4.0   \n",
       "4             19.0             9.0                   0.0   \n",
       "\n",
       "   AvailableBankcardCredit  DebtToIncomeRatio  IncomeVerifiable  \\\n",
       "0                   1500.0               0.17              True   \n",
       "1                  10266.0               0.18              True   \n",
       "2                      NaN               0.06              True   \n",
       "3                  30754.0               0.15              True   \n",
       "4                    695.0               0.26              True   \n",
       "\n",
       "   StatedMonthlyIncome  LoanNumber  LoanOriginalAmount  MonthlyLoanPayment  \\\n",
       "0          3083.333333       19141                9425              330.43   \n",
       "1          6125.000000      134815               10000              318.93   \n",
       "2          2083.333333        6466                3001              123.32   \n",
       "3          2875.000000       77296               10000              321.45   \n",
       "4          9583.333333      102670               15000              563.97   \n",
       "\n",
       "   BorrowerRate  \n",
       "0        0.1580  \n",
       "1        0.0920  \n",
       "2        0.2750  \n",
       "3        0.0974  \n",
       "4        0.2085  "
      ]
     },
     "execution_count": 2,
     "metadata": {},
     "output_type": "execute_result"
    }
   ],
   "source": [
    "df = pd.read_csv(r'prosperLoanDataRaw.csv')\n",
    "df.head()"
   ]
  },
  {
   "cell_type": "code",
   "execution_count": 3,
   "id": "97a2eba4",
   "metadata": {},
   "outputs": [
    {
     "name": "stdout",
     "output_type": "stream",
     "text": [
      "<class 'pandas.core.frame.DataFrame'>\n",
      "RangeIndex: 113937 entries, 0 to 113936\n",
      "Data columns (total 18 columns):\n",
      " #   Column                    Non-Null Count   Dtype  \n",
      "---  ------                    --------------   -----  \n",
      " 0   Term                      113937 non-null  int64  \n",
      " 1   LoanStatus                113937 non-null  object \n",
      " 2   EmploymentStatus          111682 non-null  object \n",
      " 3   EmploymentStatusDuration  106312 non-null  float64\n",
      " 4   IsBorrowerHomeowner       113937 non-null  bool   \n",
      " 5   CreditScoreRangeLower     113346 non-null  float64\n",
      " 6   CreditScoreRangeUpper     113346 non-null  float64\n",
      " 7   OpenCreditLines           106333 non-null  float64\n",
      " 8   TotalInquiries            112778 non-null  float64\n",
      " 9   CurrentDelinquencies      113240 non-null  float64\n",
      " 10  AvailableBankcardCredit   106393 non-null  float64\n",
      " 11  DebtToIncomeRatio         105383 non-null  float64\n",
      " 12  IncomeVerifiable          113937 non-null  bool   \n",
      " 13  StatedMonthlyIncome       113937 non-null  float64\n",
      " 14  LoanNumber                113937 non-null  int64  \n",
      " 15  LoanOriginalAmount        113937 non-null  int64  \n",
      " 16  MonthlyLoanPayment        113937 non-null  float64\n",
      " 17  BorrowerRate              113937 non-null  float64\n",
      "dtypes: bool(2), float64(11), int64(3), object(2)\n",
      "memory usage: 14.1+ MB\n"
     ]
    }
   ],
   "source": [
    "df.info()"
   ]
  },
  {
   "cell_type": "markdown",
   "id": "965a0cbb",
   "metadata": {},
   "source": [
    "### Step 2: Handling NULL Values."
   ]
  },
  {
   "cell_type": "code",
   "execution_count": 4,
   "id": "d756fec1",
   "metadata": {},
   "outputs": [
    {
     "data": {
      "text/plain": [
       "Term                           0\n",
       "LoanStatus                     0\n",
       "EmploymentStatus            2255\n",
       "EmploymentStatusDuration    7625\n",
       "IsBorrowerHomeowner            0\n",
       "CreditScoreRangeLower        591\n",
       "CreditScoreRangeUpper        591\n",
       "OpenCreditLines             7604\n",
       "TotalInquiries              1159\n",
       "CurrentDelinquencies         697\n",
       "AvailableBankcardCredit     7544\n",
       "DebtToIncomeRatio           8554\n",
       "IncomeVerifiable               0\n",
       "StatedMonthlyIncome            0\n",
       "LoanNumber                     0\n",
       "LoanOriginalAmount             0\n",
       "MonthlyLoanPayment             0\n",
       "BorrowerRate                   0\n",
       "dtype: int64"
      ]
     },
     "execution_count": 4,
     "metadata": {},
     "output_type": "execute_result"
    }
   ],
   "source": [
    "df.isnull().sum()"
   ]
  },
  {
   "cell_type": "code",
   "execution_count": 5,
   "id": "563f16a8",
   "metadata": {},
   "outputs": [
    {
     "name": "stderr",
     "output_type": "stream",
     "text": [
      "C:\\Users\\parka\\AppData\\Local\\Temp\\ipykernel_30560\\820435583.py:1: FutureWarning: The default value of numeric_only in DataFrame.mean is deprecated. In a future version, it will default to False. In addition, specifying 'numeric_only=None' is deprecated. Select only valid columns or specify the value of numeric_only to silence this warning.\n",
      "  df.fillna(df.mean(), inplace=True)\n"
     ]
    }
   ],
   "source": [
    "df.fillna(df.mean(), inplace=True)"
   ]
  },
  {
   "cell_type": "code",
   "execution_count": 6,
   "id": "b2f39399",
   "metadata": {},
   "outputs": [
    {
     "data": {
      "text/plain": [
       "Term                           0\n",
       "LoanStatus                     0\n",
       "EmploymentStatus            2255\n",
       "EmploymentStatusDuration       0\n",
       "IsBorrowerHomeowner            0\n",
       "CreditScoreRangeLower          0\n",
       "CreditScoreRangeUpper          0\n",
       "OpenCreditLines                0\n",
       "TotalInquiries                 0\n",
       "CurrentDelinquencies           0\n",
       "AvailableBankcardCredit        0\n",
       "DebtToIncomeRatio              0\n",
       "IncomeVerifiable               0\n",
       "StatedMonthlyIncome            0\n",
       "LoanNumber                     0\n",
       "LoanOriginalAmount             0\n",
       "MonthlyLoanPayment             0\n",
       "BorrowerRate                   0\n",
       "dtype: int64"
      ]
     },
     "execution_count": 6,
     "metadata": {},
     "output_type": "execute_result"
    }
   ],
   "source": [
    "df.isnull().sum()"
   ]
  },
  {
   "cell_type": "code",
   "execution_count": 7,
   "id": "9364d793",
   "metadata": {},
   "outputs": [],
   "source": [
    "df.dropna(inplace=True)"
   ]
  },
  {
   "cell_type": "code",
   "execution_count": 8,
   "id": "ea18efe5",
   "metadata": {},
   "outputs": [
    {
     "data": {
      "text/plain": [
       "Term                        0\n",
       "LoanStatus                  0\n",
       "EmploymentStatus            0\n",
       "EmploymentStatusDuration    0\n",
       "IsBorrowerHomeowner         0\n",
       "CreditScoreRangeLower       0\n",
       "CreditScoreRangeUpper       0\n",
       "OpenCreditLines             0\n",
       "TotalInquiries              0\n",
       "CurrentDelinquencies        0\n",
       "AvailableBankcardCredit     0\n",
       "DebtToIncomeRatio           0\n",
       "IncomeVerifiable            0\n",
       "StatedMonthlyIncome         0\n",
       "LoanNumber                  0\n",
       "LoanOriginalAmount          0\n",
       "MonthlyLoanPayment          0\n",
       "BorrowerRate                0\n",
       "dtype: int64"
      ]
     },
     "execution_count": 8,
     "metadata": {},
     "output_type": "execute_result"
    }
   ],
   "source": [
    "df.isnull().sum()"
   ]
  },
  {
   "cell_type": "markdown",
   "id": "0361013b",
   "metadata": {},
   "source": [
    "### Step 3: Cleaning Columns in the Dataset."
   ]
  },
  {
   "cell_type": "markdown",
   "id": "e521c632",
   "metadata": {},
   "source": [
    "#### Column: IsEmployed"
   ]
  },
  {
   "cell_type": "code",
   "execution_count": 9,
   "id": "09ff11cc",
   "metadata": {},
   "outputs": [
    {
     "data": {
      "text/plain": [
       "array(['Self-employed', 'Employed', 'Not available', 'Full-time', 'Other',\n",
       "       'Not employed', 'Part-time', 'Retired'], dtype=object)"
      ]
     },
     "execution_count": 9,
     "metadata": {},
     "output_type": "execute_result"
    }
   ],
   "source": [
    "df.EmploymentStatus.unique()"
   ]
  },
  {
   "cell_type": "code",
   "execution_count": 10,
   "id": "855ceb83",
   "metadata": {},
   "outputs": [],
   "source": [
    "df['IsEmployed'] = np.where((df['EmploymentStatus'] == 'Not employed') | (df['EmploymentStatus'] == 'Retired'), 0, 1)\n",
    "df.drop(columns=['EmploymentStatus'], inplace=True)"
   ]
  },
  {
   "cell_type": "markdown",
   "id": "5cad170e",
   "metadata": {},
   "source": [
    "#### Column: IsHomeowner"
   ]
  },
  {
   "cell_type": "code",
   "execution_count": 11,
   "id": "e1f547b1",
   "metadata": {},
   "outputs": [],
   "source": [
    "df.rename(columns={'IsBorrowerHomeowner': 'IsHomeowner'}, inplace=True)\n",
    "df['IsHomeowner'] = df['IsHomeowner'].astype(int)"
   ]
  },
  {
   "cell_type": "markdown",
   "id": "3ac135db",
   "metadata": {},
   "source": [
    "#### Column: AverageCreditScore"
   ]
  },
  {
   "cell_type": "code",
   "execution_count": 12,
   "id": "d74d42b9",
   "metadata": {},
   "outputs": [],
   "source": [
    "df['AverageCreditScore'] = np.ceil((df['CreditScoreRangeLower'] + df['CreditScoreRangeUpper']) / 2).astype(int)\n",
    "df.drop(columns=['CreditScoreRangeLower', 'CreditScoreRangeUpper'], inplace=True)"
   ]
  },
  {
   "cell_type": "markdown",
   "id": "38fe88a8",
   "metadata": {},
   "source": [
    "#### Column: CurrentDelinquencies"
   ]
  },
  {
   "cell_type": "code",
   "execution_count": 13,
   "id": "dd0cec3a",
   "metadata": {},
   "outputs": [],
   "source": [
    "df['AnyDelinquencies'] = np.where(df['CurrentDelinquencies'] == 0, 0, 1)\n",
    "df.drop(columns=['CurrentDelinquencies'], inplace=True)"
   ]
  },
  {
   "cell_type": "markdown",
   "id": "f3545758",
   "metadata": {},
   "source": [
    "#### Column: IncomeVerifiable"
   ]
  },
  {
   "cell_type": "code",
   "execution_count": 14,
   "id": "a3e4f731",
   "metadata": {},
   "outputs": [],
   "source": [
    "df['IncomeVerifiable'] = df['IncomeVerifiable'].astype(int)"
   ]
  },
  {
   "cell_type": "markdown",
   "id": "6fcc71ad",
   "metadata": {},
   "source": [
    "#### Column: TotalInquiries"
   ]
  },
  {
   "cell_type": "code",
   "execution_count": 15,
   "id": "78c825d4",
   "metadata": {},
   "outputs": [],
   "source": [
    "df['TotalInquiries'] = df['TotalInquiries'].astype(int)"
   ]
  },
  {
   "cell_type": "markdown",
   "id": "988a51df",
   "metadata": {},
   "source": [
    "#### Column: LoanStatus"
   ]
  },
  {
   "cell_type": "code",
   "execution_count": 16,
   "id": "55a05f00",
   "metadata": {},
   "outputs": [
    {
     "data": {
      "text/plain": [
       "array(['Completed', 'Current', 'Past Due (1-15 days)', 'Defaulted',\n",
       "       'Chargedoff', 'Past Due (16-30 days)', 'Past Due (61-90 days)',\n",
       "       'Past Due (31-60 days)', 'Past Due (91-120 days)',\n",
       "       'FinalPaymentInProgress', 'Past Due (>120 days)', 'Cancelled'],\n",
       "      dtype=object)"
      ]
     },
     "execution_count": 16,
     "metadata": {},
     "output_type": "execute_result"
    }
   ],
   "source": [
    "df.LoanStatus.unique()"
   ]
  },
  {
   "cell_type": "code",
   "execution_count": 17,
   "id": "23220043",
   "metadata": {},
   "outputs": [],
   "source": [
    "excluded_values = ['Current']  \n",
    "df = df[~df['LoanStatus'].isin(excluded_values)]"
   ]
  },
  {
   "cell_type": "code",
   "execution_count": 18,
   "id": "fd9eee63",
   "metadata": {},
   "outputs": [],
   "source": [
    "df['GoodLoan'] = np.where((df['LoanStatus'] == 'Completed') | (df['LoanStatus'] == 'FinalPaymentInProgress'), 1, 0)\n",
    "df.drop(columns=['LoanStatus'], inplace=True)"
   ]
  },
  {
   "cell_type": "markdown",
   "id": "b274a1a9",
   "metadata": {},
   "source": [
    "#### Renaming Remaining Columns"
   ]
  },
  {
   "cell_type": "code",
   "execution_count": 19,
   "id": "afcf2abd",
   "metadata": {},
   "outputs": [],
   "source": [
    "df.rename(columns={'LoanOriginalAmount': 'LoanAmount'}, inplace=True)\n",
    "df.rename(columns={'MonthlyLoanPayment': 'MonthlyInstallment'}, inplace=True)\n",
    "df.rename(columns={'BorrowerRate': 'InterestRate'}, inplace=True)\n",
    "df.rename(columns={'EmploymentStatusDuration': 'MonthsOfEmployementExperience'}, inplace=True)"
   ]
  },
  {
   "cell_type": "markdown",
   "id": "df6365f8",
   "metadata": {},
   "source": [
    "#### Cleaned Data"
   ]
  },
  {
   "cell_type": "code",
   "execution_count": 20,
   "id": "ec1b8ec6",
   "metadata": {},
   "outputs": [
    {
     "data": {
      "text/html": [
       "<div>\n",
       "<style scoped>\n",
       "    .dataframe tbody tr th:only-of-type {\n",
       "        vertical-align: middle;\n",
       "    }\n",
       "\n",
       "    .dataframe tbody tr th {\n",
       "        vertical-align: top;\n",
       "    }\n",
       "\n",
       "    .dataframe thead th {\n",
       "        text-align: right;\n",
       "    }\n",
       "</style>\n",
       "<table border=\"1\" class=\"dataframe\">\n",
       "  <thead>\n",
       "    <tr style=\"text-align: right;\">\n",
       "      <th></th>\n",
       "      <th>Term</th>\n",
       "      <th>MonthsOfEmployementExperience</th>\n",
       "      <th>IsHomeowner</th>\n",
       "      <th>OpenCreditLines</th>\n",
       "      <th>TotalInquiries</th>\n",
       "      <th>AvailableBankcardCredit</th>\n",
       "      <th>DebtToIncomeRatio</th>\n",
       "      <th>IncomeVerifiable</th>\n",
       "      <th>StatedMonthlyIncome</th>\n",
       "      <th>LoanNumber</th>\n",
       "      <th>LoanAmount</th>\n",
       "      <th>MonthlyInstallment</th>\n",
       "      <th>InterestRate</th>\n",
       "      <th>IsEmployed</th>\n",
       "      <th>AverageCreditScore</th>\n",
       "      <th>AnyDelinquencies</th>\n",
       "      <th>GoodLoan</th>\n",
       "    </tr>\n",
       "  </thead>\n",
       "  <tbody>\n",
       "    <tr>\n",
       "      <th>count</th>\n",
       "      <td>55106.000000</td>\n",
       "      <td>55106.000000</td>\n",
       "      <td>55106.000000</td>\n",
       "      <td>55106.000000</td>\n",
       "      <td>55106.000000</td>\n",
       "      <td>55106.000000</td>\n",
       "      <td>55106.000000</td>\n",
       "      <td>55106.000000</td>\n",
       "      <td>55106.000000</td>\n",
       "      <td>55106.000000</td>\n",
       "      <td>55106.000000</td>\n",
       "      <td>55106.000000</td>\n",
       "      <td>55106.000000</td>\n",
       "      <td>55106.000000</td>\n",
       "      <td>55106.00000</td>\n",
       "      <td>55106.000000</td>\n",
       "      <td>55106.000000</td>\n",
       "    </tr>\n",
       "    <tr>\n",
       "      <th>mean</th>\n",
       "      <td>37.248213</td>\n",
       "      <td>83.022587</td>\n",
       "      <td>0.479240</td>\n",
       "      <td>8.450398</td>\n",
       "      <td>6.989184</td>\n",
       "      <td>10804.630868</td>\n",
       "      <td>0.292810</td>\n",
       "      <td>0.918557</td>\n",
       "      <td>5066.380671</td>\n",
       "      <td>41156.579338</td>\n",
       "      <td>6413.647969</td>\n",
       "      <td>228.620494</td>\n",
       "      <td>0.202293</td>\n",
       "      <td>0.976591</td>\n",
       "      <td>684.70388</td>\n",
       "      <td>0.256723</td>\n",
       "      <td>0.668530</td>\n",
       "    </tr>\n",
       "    <tr>\n",
       "      <th>std</th>\n",
       "      <td>7.800320</td>\n",
       "      <td>81.000658</td>\n",
       "      <td>0.499573</td>\n",
       "      <td>4.740902</td>\n",
       "      <td>8.031658</td>\n",
       "      <td>20839.931109</td>\n",
       "      <td>0.704578</td>\n",
       "      <td>0.273517</td>\n",
       "      <td>5692.037914</td>\n",
       "      <td>24807.586082</td>\n",
       "      <td>5275.506473</td>\n",
       "      <td>186.709415</td>\n",
       "      <td>0.081249</td>\n",
       "      <td>0.151201</td>\n",
       "      <td>78.15758</td>\n",
       "      <td>0.436829</td>\n",
       "      <td>0.470746</td>\n",
       "    </tr>\n",
       "    <tr>\n",
       "      <th>min</th>\n",
       "      <td>12.000000</td>\n",
       "      <td>0.000000</td>\n",
       "      <td>0.000000</td>\n",
       "      <td>0.000000</td>\n",
       "      <td>0.000000</td>\n",
       "      <td>0.000000</td>\n",
       "      <td>0.000000</td>\n",
       "      <td>0.000000</td>\n",
       "      <td>0.000000</td>\n",
       "      <td>74.000000</td>\n",
       "      <td>1000.000000</td>\n",
       "      <td>0.000000</td>\n",
       "      <td>0.000000</td>\n",
       "      <td>0.000000</td>\n",
       "      <td>10.00000</td>\n",
       "      <td>0.000000</td>\n",
       "      <td>0.000000</td>\n",
       "    </tr>\n",
       "    <tr>\n",
       "      <th>25%</th>\n",
       "      <td>36.000000</td>\n",
       "      <td>24.000000</td>\n",
       "      <td>0.000000</td>\n",
       "      <td>5.000000</td>\n",
       "      <td>2.000000</td>\n",
       "      <td>665.000000</td>\n",
       "      <td>0.140000</td>\n",
       "      <td>1.000000</td>\n",
       "      <td>2833.333333</td>\n",
       "      <td>21621.250000</td>\n",
       "      <td>3000.000000</td>\n",
       "      <td>102.520000</td>\n",
       "      <td>0.136500</td>\n",
       "      <td>1.000000</td>\n",
       "      <td>650.00000</td>\n",
       "      <td>0.000000</td>\n",
       "      <td>0.000000</td>\n",
       "    </tr>\n",
       "    <tr>\n",
       "      <th>50%</th>\n",
       "      <td>36.000000</td>\n",
       "      <td>63.000000</td>\n",
       "      <td>0.000000</td>\n",
       "      <td>8.000000</td>\n",
       "      <td>5.000000</td>\n",
       "      <td>4368.500000</td>\n",
       "      <td>0.220000</td>\n",
       "      <td>1.000000</td>\n",
       "      <td>4166.666667</td>\n",
       "      <td>39045.500000</td>\n",
       "      <td>4800.000000</td>\n",
       "      <td>173.710000</td>\n",
       "      <td>0.198200</td>\n",
       "      <td>1.000000</td>\n",
       "      <td>690.00000</td>\n",
       "      <td>0.000000</td>\n",
       "      <td>1.000000</td>\n",
       "    </tr>\n",
       "    <tr>\n",
       "      <th>75%</th>\n",
       "      <td>36.000000</td>\n",
       "      <td>104.000000</td>\n",
       "      <td>1.000000</td>\n",
       "      <td>11.000000</td>\n",
       "      <td>9.000000</td>\n",
       "      <td>11210.225447</td>\n",
       "      <td>0.300000</td>\n",
       "      <td>1.000000</td>\n",
       "      <td>6250.000000</td>\n",
       "      <td>56644.500000</td>\n",
       "      <td>8300.000000</td>\n",
       "      <td>306.720000</td>\n",
       "      <td>0.269900</td>\n",
       "      <td>1.000000</td>\n",
       "      <td>730.00000</td>\n",
       "      <td>1.000000</td>\n",
       "      <td>1.000000</td>\n",
       "    </tr>\n",
       "    <tr>\n",
       "      <th>max</th>\n",
       "      <td>60.000000</td>\n",
       "      <td>755.000000</td>\n",
       "      <td>1.000000</td>\n",
       "      <td>51.000000</td>\n",
       "      <td>379.000000</td>\n",
       "      <td>646285.000000</td>\n",
       "      <td>10.010000</td>\n",
       "      <td>1.000000</td>\n",
       "      <td>618547.833300</td>\n",
       "      <td>134158.000000</td>\n",
       "      <td>35000.000000</td>\n",
       "      <td>2251.510000</td>\n",
       "      <td>0.360000</td>\n",
       "      <td>1.000000</td>\n",
       "      <td>890.00000</td>\n",
       "      <td>1.000000</td>\n",
       "      <td>1.000000</td>\n",
       "    </tr>\n",
       "  </tbody>\n",
       "</table>\n",
       "</div>"
      ],
      "text/plain": [
       "               Term  MonthsOfEmployementExperience   IsHomeowner  \\\n",
       "count  55106.000000                   55106.000000  55106.000000   \n",
       "mean      37.248213                      83.022587      0.479240   \n",
       "std        7.800320                      81.000658      0.499573   \n",
       "min       12.000000                       0.000000      0.000000   \n",
       "25%       36.000000                      24.000000      0.000000   \n",
       "50%       36.000000                      63.000000      0.000000   \n",
       "75%       36.000000                     104.000000      1.000000   \n",
       "max       60.000000                     755.000000      1.000000   \n",
       "\n",
       "       OpenCreditLines  TotalInquiries  AvailableBankcardCredit  \\\n",
       "count     55106.000000    55106.000000             55106.000000   \n",
       "mean          8.450398        6.989184             10804.630868   \n",
       "std           4.740902        8.031658             20839.931109   \n",
       "min           0.000000        0.000000                 0.000000   \n",
       "25%           5.000000        2.000000               665.000000   \n",
       "50%           8.000000        5.000000              4368.500000   \n",
       "75%          11.000000        9.000000             11210.225447   \n",
       "max          51.000000      379.000000            646285.000000   \n",
       "\n",
       "       DebtToIncomeRatio  IncomeVerifiable  StatedMonthlyIncome  \\\n",
       "count       55106.000000      55106.000000         55106.000000   \n",
       "mean            0.292810          0.918557          5066.380671   \n",
       "std             0.704578          0.273517          5692.037914   \n",
       "min             0.000000          0.000000             0.000000   \n",
       "25%             0.140000          1.000000          2833.333333   \n",
       "50%             0.220000          1.000000          4166.666667   \n",
       "75%             0.300000          1.000000          6250.000000   \n",
       "max            10.010000          1.000000        618547.833300   \n",
       "\n",
       "          LoanNumber    LoanAmount  MonthlyInstallment  InterestRate  \\\n",
       "count   55106.000000  55106.000000        55106.000000  55106.000000   \n",
       "mean    41156.579338   6413.647969          228.620494      0.202293   \n",
       "std     24807.586082   5275.506473          186.709415      0.081249   \n",
       "min        74.000000   1000.000000            0.000000      0.000000   \n",
       "25%     21621.250000   3000.000000          102.520000      0.136500   \n",
       "50%     39045.500000   4800.000000          173.710000      0.198200   \n",
       "75%     56644.500000   8300.000000          306.720000      0.269900   \n",
       "max    134158.000000  35000.000000         2251.510000      0.360000   \n",
       "\n",
       "         IsEmployed  AverageCreditScore  AnyDelinquencies      GoodLoan  \n",
       "count  55106.000000         55106.00000      55106.000000  55106.000000  \n",
       "mean       0.976591           684.70388          0.256723      0.668530  \n",
       "std        0.151201            78.15758          0.436829      0.470746  \n",
       "min        0.000000            10.00000          0.000000      0.000000  \n",
       "25%        1.000000           650.00000          0.000000      0.000000  \n",
       "50%        1.000000           690.00000          0.000000      1.000000  \n",
       "75%        1.000000           730.00000          1.000000      1.000000  \n",
       "max        1.000000           890.00000          1.000000      1.000000  "
      ]
     },
     "execution_count": 20,
     "metadata": {},
     "output_type": "execute_result"
    }
   ],
   "source": [
    "df.describe()"
   ]
  },
  {
   "cell_type": "markdown",
   "id": "03784c60",
   "metadata": {},
   "source": [
    "### Step 4: Export Cleaned Dataset."
   ]
  },
  {
   "cell_type": "code",
   "execution_count": 21,
   "id": "c4ad021c",
   "metadata": {},
   "outputs": [],
   "source": [
    "df.to_csv('prosperLoanDataCleaned.csv', index=False)"
   ]
  },
  {
   "cell_type": "code",
   "execution_count": null,
   "id": "795401f4",
   "metadata": {},
   "outputs": [],
   "source": []
  },
  {
   "cell_type": "code",
   "execution_count": null,
   "id": "9d4b8757",
   "metadata": {},
   "outputs": [],
   "source": []
  },
  {
   "cell_type": "code",
   "execution_count": null,
   "id": "177e28dc",
   "metadata": {},
   "outputs": [],
   "source": []
  }
 ],
 "metadata": {
  "kernelspec": {
   "display_name": "Python 3 (ipykernel)",
   "language": "python",
   "name": "python3"
  },
  "language_info": {
   "codemirror_mode": {
    "name": "ipython",
    "version": 3
   },
   "file_extension": ".py",
   "mimetype": "text/x-python",
   "name": "python",
   "nbconvert_exporter": "python",
   "pygments_lexer": "ipython3",
   "version": "3.10.9"
  }
 },
 "nbformat": 4,
 "nbformat_minor": 5
}
